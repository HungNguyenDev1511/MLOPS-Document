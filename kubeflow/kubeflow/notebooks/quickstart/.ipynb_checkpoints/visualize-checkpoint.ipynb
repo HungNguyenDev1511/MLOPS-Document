{
 "cells": [
  {
   "cell_type": "code",
   "execution_count": 1,
   "id": "a5308636-575e-4fc5-8191-7b0b51d36849",
   "metadata": {},
   "outputs": [],
   "source": [
    "from typing import NamedTuple\n",
    "import kfp\n",
    "from kfp.components import load_component_from_url, create_component_from_func\n",
    "from kfp.components import InputPath, OutputPath\n",
    "\n",
    "import sys\n",
    "sys.path.insert(0, \"..\")\n",
    "from constants import NAMESPACE, HOST, NAMESPACE\n",
    "from utils import get_session_cookie"
   ]
  },
  {
   "cell_type": "code",
   "execution_count": 2,
   "id": "2fecc125-8cce-497a-baad-d9b68f99b8fb",
   "metadata": {},
   "outputs": [],
   "source": [
    "# Where all the runs belong to the pipeline reside in\n",
    "EXPERIMENT_NAME = \"mle-3-visualize\""
   ]
  },
  {
   "cell_type": "markdown",
   "id": "2d3333f5-998c-4d28-8c86-f7c99ca519d8",
   "metadata": {},
   "source": [
    "## Define pipeline components"
   ]
  },
  {
   "cell_type": "code",
   "execution_count": 3,
   "id": "9683a632-2c50-4419-9c27-e89d12f51eaa",
   "metadata": {},
   "outputs": [],
   "source": [
    "##########################################################################\n",
    "# PRODUCE METRICS #\n",
    "##########################################################################\n",
    "# Ref: https://www.kubeflow.org/docs/components/pipelines/sdk/pipelines-metrics/\n",
    "def produce_metrics() -> NamedTuple('Outputs', [\n",
    "  ('mlpipeline_metrics', 'Metrics'),\n",
    "]):\n",
    "    import json\n",
    "\n",
    "    accuracy = 0.8\n",
    "    metrics = {\n",
    "        'metrics': [{\n",
    "            'name': 'accuracy-score', # The name of the metric. Visualized as the column name in the runs table.\n",
    "            'numberValue':  accuracy, # The value of the metric. Must be a numeric value.\n",
    "            'format': \"PERCENTAGE\",   # The optional format of the metric. Supported values are \"RAW\" (displayed in raw format) and \"PERCENTAGE\" (displayed in percentage format).\n",
    "        }]\n",
    "    }\n",
    "    return [json.dumps(metrics)]\n",
    "\n",
    "produce_metrics_op = create_component_from_func(\n",
    "    produce_metrics,\n",
    "    base_image='python:3.7',\n",
    "    packages_to_install=[],\n",
    "    output_component_file='../components/visualize_metrics/component.yaml',\n",
    ")\n",
    "\n",
    "##########################################################################\n",
    "# PRODUCE HTML #\n",
    "##########################################################################\n",
    "# Ref: https://www.kubeflow.org/docs/components/pipelines/sdk/output-viewer/#web-app\n",
    "def produce_html(mlpipeline_ui_metadata_path: kfp.components.OutputPath()):\n",
    "    import json\n",
    "    import os\n",
    "\n",
    "    metadata = {\n",
    "        'outputs' : [{\n",
    "          'type': 'web-app',\n",
    "          'storage': 'inline',\n",
    "          'source': '<h1>Hello, World!</h1>',\n",
    "        }]\n",
    "    }\n",
    "\n",
    "    with open(mlpipeline_ui_metadata_path, 'w') as metadata_file:\n",
    "        json.dump(metadata, metadata_file)\n",
    "        \n",
    "produce_html_op = create_component_from_func(\n",
    "    produce_html,\n",
    "    base_image='python:3.7',\n",
    "    packages_to_install=[],\n",
    "    output_component_file='../components/visualize_html/component.yaml',\n",
    ")"
   ]
  },
  {
   "cell_type": "markdown",
   "id": "95b73823-e53f-4bcb-9515-0935077d282b",
   "metadata": {},
   "source": [
    "## Define some pipelines"
   ]
  },
  {
   "cell_type": "code",
   "execution_count": 4,
   "id": "45c84016-0f52-448b-9a1a-dd8fbaf89846",
   "metadata": {},
   "outputs": [],
   "source": [
    "from kfp import dsl\n",
    "\n",
    "# Define a pipeline and create a task from a component:\n",
    "@dsl.pipeline(\n",
    "    name='Visualize',\n",
    "    description='Visualize in pipeline.'\n",
    ")\n",
    "def visualize_pipeline(url):\n",
    "    produce_metrics_op()\n",
    "    produce_html_op()"
   ]
  },
  {
   "cell_type": "markdown",
   "id": "4480d5af-af47-49ae-9648-1c5eee107d71",
   "metadata": {},
   "source": [
    "## Run the pipelines"
   ]
  },
  {
   "cell_type": "code",
   "execution_count": 5,
   "id": "c4c78e38-2a16-4795-9330-eebbe7b48f98",
   "metadata": {},
   "outputs": [],
   "source": [
    "# Get the token to authenticate to the `ml-pipeline` service\n",
    "session_cookie = get_session_cookie()\n",
    "\n",
    "# Initialize the client\n",
    "client = kfp.Client(\n",
    "    host=f\"{HOST}/pipeline\",\n",
    "    cookies=f\"authservice_session={session_cookie}\",\n",
    "    namespace=NAMESPACE,\n",
    ")"
   ]
  },
  {
   "cell_type": "code",
   "execution_count": 6,
   "id": "d166df5b-8e45-4656-ada7-b3bc73845812",
   "metadata": {},
   "outputs": [
    {
     "data": {
      "text/html": [
       "<a href=\"http://10.10.10.10:8080/pipeline/#/experiments/details/424cdf89-b709-4b8a-95c2-855d44c00d24\" target=\"_blank\" >Experiment details</a>."
      ],
      "text/plain": [
       "<IPython.core.display.HTML object>"
      ]
     },
     "metadata": {},
     "output_type": "display_data"
    },
    {
     "data": {
      "text/html": [
       "<a href=\"http://10.10.10.10:8080/pipeline/#/runs/details/eeb5cedc-d000-46bb-9e4b-236776bcc4af\" target=\"_blank\" >Run details</a>."
      ],
      "text/plain": [
       "<IPython.core.display.HTML object>"
      ]
     },
     "metadata": {},
     "output_type": "display_data"
    },
    {
     "data": {
      "text/plain": [
       "RunPipelineResult(run_id=eeb5cedc-d000-46bb-9e4b-236776bcc4af)"
      ]
     },
     "execution_count": 6,
     "metadata": {},
     "output_type": "execute_result"
    }
   ],
   "source": [
    "client.create_run_from_pipeline_func(\n",
    "    visualize_pipeline,\n",
    "    arguments={},\n",
    "    experiment_name=EXPERIMENT_NAME,\n",
    "    namespace=NAMESPACE\n",
    ")"
   ]
  }
 ],
 "metadata": {
  "kernelspec": {
   "display_name": "Python 3 (ipykernel)",
   "language": "python",
   "name": "python3"
  },
  "language_info": {
   "codemirror_mode": {
    "name": "ipython",
    "version": 3
   },
   "file_extension": ".py",
   "mimetype": "text/x-python",
   "name": "python",
   "nbconvert_exporter": "python",
   "pygments_lexer": "ipython3",
   "version": "3.9.18"
  }
 },
 "nbformat": 4,
 "nbformat_minor": 5
}
