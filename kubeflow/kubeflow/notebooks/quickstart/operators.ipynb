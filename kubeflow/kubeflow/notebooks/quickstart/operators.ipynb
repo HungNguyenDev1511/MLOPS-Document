{
 "cells": [
  {
   "cell_type": "code",
   "execution_count": 1,
   "id": "b94b71f9-ee1d-4d37-81a1-04dde00662f1",
   "metadata": {},
   "outputs": [],
   "source": [
    "import kfp\n",
    "from kfp import dsl\n",
    "from kfp.components import create_component_from_func, load_component_from_file\n",
    "\n",
    "import sys\n",
    "\n",
    "sys.path.insert(0, \"..\")\n",
    "from constants import NAMESPACE, HOST, NAMESPACE\n",
    "from utils import get_session_cookie"
   ]
  },
  {
   "cell_type": "code",
   "execution_count": 2,
   "id": "e18a93c6-c02c-4224-90e6-758c350f7093",
   "metadata": {},
   "outputs": [],
   "source": [
    "# Where all the runs belong to the pipeline reside in\n",
    "EXPERIMENT_NAME = \"mle-3-operators\""
   ]
  },
  {
   "cell_type": "markdown",
   "id": "b41527d5-01c5-4f96-a579-4d5020c6d875",
   "metadata": {},
   "source": [
    "## Define pipeline components"
   ]
  },
  {
   "cell_type": "code",
   "execution_count": 4,
   "id": "ecdb7d64-ffef-4f35-afab-d04c661fb595",
   "metadata": {},
   "outputs": [],
   "source": [
    "# The 1st component to calculate a+b\n",
    "def add(a: float, b: float) -> float:\n",
    "    return a + b\n",
    "\n",
    "\n",
    "# Other than using create_component_from_func, you can also use func_to_container_op (with an image arg),\n",
    "# load_component_from_url and load_component_from_file, etc., as mentioned below\n",
    "# https://www.kubeflow.org/docs/components/pipelines/v1/sdk/python-function-components/#getting-started-with-python-function-based-components\n",
    "add_op = create_component_from_func(\n",
    "    func=add,\n",
    "    base_image=\"python:3.7\",  # Base image to execute our code\n",
    "    output_component_file=\"../../components/add/component.yaml\",  # Optional\n",
    "    packages_to_install=[\"pandas==0.24\"],  # Optional\n",
    ")\n",
    "\n",
    "\n",
    "# The 2nd component to calculate a-b\n",
    "def minus(a: float, b: float) -> float:\n",
    "    print(a - b)\n",
    "    return a - b\n",
    "\n",
    "\n",
    "minus_op = create_component_from_func(\n",
    "    func=minus,\n",
    "    base_image=\"python:3.7\",\n",
    "    output_component_file=\"../../components/minus/component.yaml\",  # Optional\n",
    "    packages_to_install=[\"pandas==0.24\"],  # Optional\n",
    ")"
   ]
  },
  {
   "cell_type": "markdown",
   "id": "12371c1c-4368-46e1-a9dc-7d1c74b2eb2d",
   "metadata": {},
   "source": [
    "## Define some pipelines"
   ]
  },
  {
   "cell_type": "code",
   "execution_count": 8,
   "id": "5423bfd4-2eed-43ba-83c6-643547ae1630",
   "metadata": {},
   "outputs": [],
   "source": [
    "# Define a pipeline with 2 components: add and minus\n",
    "# The minus component will be run only if it satisfies\n",
    "# the condition on the sum's output: sum > 3\n",
    "@dsl.pipeline(\n",
    "    name=\"Condition\", description=\"Run minus op if the condition is satisfied.\"\n",
    ")\n",
    "def add_and_minus():\n",
    "    # A sample pipeline showing condition.\n",
    "\n",
    "    # You can also pass args to this func as mentioned in the following example\n",
    "    # https://www.kubeflow.org/docs/components/pipelines/v1/sdk/python-function-components/#getting-started-with-python-function-based-components\n",
    "    add_task = add_op(1, 2)  # This task receives 2 args\n",
    "    sum_output_ref = add_task.outputs[\"Output\"]  # Get the output from the previous step\n",
    "\n",
    "    # If the output of the sum task > 3, then run the minus task\n",
    "    with dsl.Condition(sum_output_ref > 3):\n",
    "        minus_task = minus_op(sum_output_ref, 4)"
   ]
  },
  {
   "cell_type": "code",
   "execution_count": 14,
   "id": "e040d369-3d81-4f32-8f9d-e0bc0016a487",
   "metadata": {},
   "outputs": [],
   "source": [
    "# Define another pipeline which allows to run 3 pairs\n",
    "# in this pipeline, the add_task goes first, then minus_task\n",
    "@dsl.pipeline(name=\"Parallel For\", description=\"Run in parallel two add tasks.\")\n",
    "def parallel_add_and_minus():\n",
    "    # A sample pipeline showing running tasks in parallel.\n",
    "\n",
    "    # Other than parallelfor, you can also use exithandler for tasks such as notification\n",
    "    # for example, if the pipeline fails. Please take a look at this example https://stackoverflow.com/a/57586000\n",
    "    with dsl.ParallelFor(\n",
    "        [{\"a\": 2, \"b\": 3}, {\"a\": 20, \"b\": 30}, {\"a\": 200, \"b\": 300}]\n",
    "    ) as item:\n",
    "        add_task = add_op(item.a, item.b)\n",
    "        minus_task = minus_op(item.a, item.b)\n",
    "        minus_task.after(add_task)  # Make minus task run after the add task\n",
    "\n",
    "\n",
    "# You can also load all the components from YAML files\n",
    "# which were exported before\n",
    "# loaded_add_op = load_component_from_file(\"../../components/add/component.yaml\")\n",
    "# loaded_minus_op = load_component_from_file(\"../../components/minus/component.yaml\")\n",
    "\n",
    "# @dsl.pipeline(\n",
    "#     name='Parallel For',\n",
    "#     description='Run in parallel two add tasks.'\n",
    "# )\n",
    "# def parallel_add_and_minus():\n",
    "#     # A sample pipeline showing running tasks in parallel.\n",
    "\n",
    "#     with dsl.ParallelFor([{'a':2, 'b': 3}, {'a': 20, 'b': 30}, {'a': 200, 'b': 300}]) as item:\n",
    "#         loaded_add_task_1 = loaded_add_op(item.a, item.b)\n",
    "#         loaded_add_task_2 = loaded_add_op(item.a, item.b)\n",
    "#         loaded_minus_task = loaded_minus_op(item.a, item.b)\n",
    "#         loaded_minus_task.after(loaded_add_task_1, loaded_add_task_2) # Make minus task run after the add task"
   ]
  },
  {
   "cell_type": "markdown",
   "id": "cbf814e3-76f1-491c-b534-0c9d91f6dc77",
   "metadata": {},
   "source": [
    "## Run the pipelines"
   ]
  },
  {
   "cell_type": "code",
   "execution_count": 6,
   "id": "e8d3f830-9e75-40dd-ba58-a836c4c72d69",
   "metadata": {},
   "outputs": [],
   "source": [
    "# Get the token to authenticate to the `ml-pipeline` service\n",
    "session_cookie = get_session_cookie()\n",
    "\n",
    "# Initialize the client\n",
    "client = kfp.Client(\n",
    "    host=f\"{HOST}/pipeline\",\n",
    "    cookies=f\"authservice_session={session_cookie}\",\n",
    "    namespace=NAMESPACE,\n",
    ")"
   ]
  },
  {
   "cell_type": "code",
   "execution_count": 9,
   "id": "16770d45-394d-4027-8ec2-217411dff138",
   "metadata": {},
   "outputs": [
    {
     "data": {
      "text/html": [
       "<a href=\"http://10.10.10.10:8080/pipeline/#/experiments/details/dc80b8cc-0bd2-4315-aa5b-71a43a132829\" target=\"_blank\" >Experiment details</a>."
      ],
      "text/plain": [
       "<IPython.core.display.HTML object>"
      ]
     },
     "metadata": {},
     "output_type": "display_data"
    },
    {
     "data": {
      "text/html": [
       "<a href=\"http://10.10.10.10:8080/pipeline/#/runs/details/06c3d6f0-eee4-436c-a895-0b99617c6fc3\" target=\"_blank\" >Run details</a>."
      ],
      "text/plain": [
       "<IPython.core.display.HTML object>"
      ]
     },
     "metadata": {},
     "output_type": "display_data"
    },
    {
     "data": {
      "text/plain": [
       "RunPipelineResult(run_id=06c3d6f0-eee4-436c-a895-0b99617c6fc3)"
      ]
     },
     "execution_count": 9,
     "metadata": {},
     "output_type": "execute_result"
    }
   ],
   "source": [
    "# Create a pipeline from the above pre-defined function\n",
    "client.create_run_from_pipeline_func(\n",
    "    add_and_minus, arguments={}, experiment_name=EXPERIMENT_NAME, namespace=NAMESPACE\n",
    ")"
   ]
  },
  {
   "cell_type": "code",
   "execution_count": 15,
   "id": "1f0fd896-3fcc-4c70-9252-52b97d4fdf5b",
   "metadata": {},
   "outputs": [
    {
     "data": {
      "text/html": [
       "<a href=\"http://10.10.10.10:8080/pipeline/#/experiments/details/dc80b8cc-0bd2-4315-aa5b-71a43a132829\" target=\"_blank\" >Experiment details</a>."
      ],
      "text/plain": [
       "<IPython.core.display.HTML object>"
      ]
     },
     "metadata": {},
     "output_type": "display_data"
    },
    {
     "data": {
      "text/html": [
       "<a href=\"http://10.10.10.10:8080/pipeline/#/runs/details/62d94aab-9df0-4a7a-8d93-eba6d21cdd1a\" target=\"_blank\" >Run details</a>."
      ],
      "text/plain": [
       "<IPython.core.display.HTML object>"
      ]
     },
     "metadata": {},
     "output_type": "display_data"
    },
    {
     "data": {
      "text/plain": [
       "RunPipelineResult(run_id=62d94aab-9df0-4a7a-8d93-eba6d21cdd1a)"
      ]
     },
     "execution_count": 15,
     "metadata": {},
     "output_type": "execute_result"
    }
   ],
   "source": [
    "# Create another pipeline from the above pre-defined function\n",
    "client.create_run_from_pipeline_func(\n",
    "    parallel_add_and_minus,\n",
    "    arguments={},\n",
    "    experiment_name=EXPERIMENT_NAME,\n",
    "    namespace=NAMESPACE,\n",
    ")"
   ]
  }
 ],
 "metadata": {
  "kernelspec": {
   "display_name": "Python 3 (ipykernel)",
   "language": "python",
   "name": "python3"
  },
  "language_info": {
   "codemirror_mode": {
    "name": "ipython",
    "version": 3
   },
   "file_extension": ".py",
   "mimetype": "text/x-python",
   "name": "python",
   "nbconvert_exporter": "python",
   "pygments_lexer": "ipython3",
   "version": "3.9.18"
  }
 },
 "nbformat": 4,
 "nbformat_minor": 5
}
